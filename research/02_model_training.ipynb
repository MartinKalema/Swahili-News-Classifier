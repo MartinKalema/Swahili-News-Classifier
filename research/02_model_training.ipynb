{
 "cells": [
  {
   "cell_type": "code",
   "execution_count": 1,
   "metadata": {},
   "outputs": [],
   "source": [
    "import os"
   ]
  },
  {
   "cell_type": "code",
   "execution_count": 2,
   "metadata": {},
   "outputs": [
    {
     "data": {
      "text/plain": [
       "'/media/kalema/9954-79C8/Projects/Swahili-News-Classifier/research'"
      ]
     },
     "execution_count": 2,
     "metadata": {},
     "output_type": "execute_result"
    }
   ],
   "source": [
    "pwd"
   ]
  },
  {
   "cell_type": "code",
   "execution_count": 3,
   "metadata": {},
   "outputs": [],
   "source": [
    "os.chdir('../')"
   ]
  },
  {
   "cell_type": "code",
   "execution_count": 4,
   "metadata": {},
   "outputs": [
    {
     "data": {
      "text/plain": [
       "'/media/kalema/9954-79C8/Projects/Swahili-News-Classifier'"
      ]
     },
     "execution_count": 4,
     "metadata": {},
     "output_type": "execute_result"
    }
   ],
   "source": [
    "pwd"
   ]
  },
  {
   "cell_type": "code",
   "execution_count": 5,
   "metadata": {},
   "outputs": [],
   "source": [
    "from dataclasses import dataclass\n",
    "from pathlib import Path\n",
    "\n",
    "from swahiliNewsClassifier.constants import *\n",
    "from swahiliNewsClassifier.utilities.helper_functions import read_yaml, create_directories"
   ]
  },
  {
   "cell_type": "code",
   "execution_count": 6,
   "metadata": {},
   "outputs": [],
   "source": [
    "@dataclass(frozen=True)\n",
    "class ModelTrainingConfig:\n",
    "    test_size: float\n",
    "    learning_rate_1: float\n",
    "    learning_rate_2: float\n",
    "    learning_rate_3: float\n",
    "    learning_rate_4: float\n",
    "    learning_rate_5: float\n",
    "    batch_size_1: int\n",
    "    batch_size_2: int\n",
    "    epochs_1: int\n",
    "    epochs_2: int\n",
    "    epochs_3: int\n",
    "    epochs_4: int\n",
    "    epochs_5: int\n",
    "    language_model_learner_dir: Path\n",
    "    text_classifier_learner_dir: Path\n",
    "    number_of_classes: int\n",
    "    root_dir: Path"
   ]
  },
  {
   "cell_type": "code",
   "execution_count": null,
   "metadata": {},
   "outputs": [],
   "source": [
    "class ConfigurationManager:\n",
    "    def __init__(self, config_filepath=CONFIG_FILE_PATH, params_filepath=PARAMS_FILE_PATH):\n",
    "        \"\"\"\n",
    "        Initialize ConfigurationManager with configuration and parameter files.\n",
    "\n",
    "        Args:\n",
    "            config_filepath (str): Path to the configuration YAML file.\n",
    "            params_filepath (str): Path to the parameters YAML file.\n",
    "        \"\"\"\n",
    "        self.config = read_yaml(config_filepath)\n",
    "        self.params = read_yaml(params_filepath)\n",
    "\n",
    "        create_directories([self.config.artifacts_root])\n",
    "\n",
    "    def get_model_training_config(self) -> ModelTrainingConfig:\n",
    "        \"\"\"\n",
    "        Get the model training configuration.\n",
    "\n",
    "        Returns:\n",
    "            ModelTrainingConfig: Configuration object for model training.\n",
    "        \"\"\"\n",
    "        create_directories([self.config.training.root_dir])\n",
    "\n",
    "        return ModelTrainingConfig(\n",
    "            root_dir=self.config.training.root_dir,\n",
    "            language_model_learner_dir=self.config.training.language_model_learner_path,\n",
    "            text_classifier_learner_dir=self.config.training.text_classifier_learner_path,\n",
    "            test_size=self.params.test_size,\n",
    "            learning_rate_1=self.params.LEARNING_RATE_1,\n",
    "            learning_rate_2=self.params.LEARNING_RATE_2,\n",
    "            learning_rate_3=self.params.LEARNING_RATE_3,\n",
    "            learning_rate_4=self.params.LEARNING_RATE_4,\n",
    "            learning_rate_5=self.params.LEARNING_RATE_5,\n",
    "            batch_size_1=self.params.BATCH_SIZE_1,\n",
    "            batch_size_2=self.params.BATCH_SIZE_2,\n",
    "            epochs_1=self.params.EPOCHS_1,\n",
    "            epochs_2=self.params.EPOCHS_2,\n",
    "            epochs_3=self.params.EPOCHS_3,\n",
    "            epochs_4=self.params.EPOCHS_4,\n",
    "            epochs_5=self.params.EPOCHS_5,\n",
    "            number_of_classes=self.params.NUMBER_OF_CLASSES,\n",
    "        \n",
    "        )"
   ]
  },
  {
   "cell_type": "code",
   "execution_count": null,
   "metadata": {},
   "outputs": [],
   "source": [
    "import torch\n",
    "import fastai\n",
    "from fastai.text.all import *\n",
    "import pandas as pd\n",
    "import numpy as np\n",
    "from functools import partial\n",
    "import io\n",
    "import os\n",
    "from sklearn.model_selection import train_test_split\n",
    "from swahiliNewsClassifier import log"
   ]
  }
 ],
 "metadata": {
  "kernelspec": {
   "display_name": "kidney",
   "language": "python",
   "name": "python3"
  },
  "language_info": {
   "codemirror_mode": {
    "name": "ipython",
    "version": 3
   },
   "file_extension": ".py",
   "mimetype": "text/x-python",
   "name": "python",
   "nbconvert_exporter": "python",
   "pygments_lexer": "ipython3",
   "version": "3.8.19"
  }
 },
 "nbformat": 4,
 "nbformat_minor": 2
}
