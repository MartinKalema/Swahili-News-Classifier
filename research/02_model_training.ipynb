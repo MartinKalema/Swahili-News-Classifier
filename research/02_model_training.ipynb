{
 "cells": [
  {
   "cell_type": "code",
   "execution_count": 1,
   "metadata": {},
   "outputs": [],
   "source": [
    "import os"
   ]
  },
  {
   "cell_type": "code",
   "execution_count": 2,
   "metadata": {},
   "outputs": [
    {
     "data": {
      "text/plain": [
       "'/media/kalema/9954-79C8/Projects/Swahili-News-Classifier/research'"
      ]
     },
     "execution_count": 2,
     "metadata": {},
     "output_type": "execute_result"
    }
   ],
   "source": [
    "pwd"
   ]
  },
  {
   "cell_type": "code",
   "execution_count": 3,
   "metadata": {},
   "outputs": [],
   "source": [
    "os.chdir('../')"
   ]
  },
  {
   "cell_type": "code",
   "execution_count": 4,
   "metadata": {},
   "outputs": [
    {
     "data": {
      "text/plain": [
       "'/media/kalema/9954-79C8/Projects/Swahili-News-Classifier'"
      ]
     },
     "execution_count": 4,
     "metadata": {},
     "output_type": "execute_result"
    }
   ],
   "source": [
    "pwd"
   ]
  },
  {
   "cell_type": "code",
   "execution_count": 5,
   "metadata": {},
   "outputs": [],
   "source": [
    "from dataclasses import dataclass\n",
    "from pathlib import Path\n",
    "\n",
    "from swahiliNewsClassifier.constants import *\n",
    "from swahiliNewsClassifier.utilities.helper_functions import read_yaml, create_directories"
   ]
  },
  {
   "cell_type": "code",
   "execution_count": 10,
   "metadata": {},
   "outputs": [],
   "source": [
    "@dataclass(frozen=True)\n",
    "class ModelTrainingConfig:\n",
    "    test_size: float\n",
    "    learning_rate_1: float\n",
    "    learning_rate_2: float\n",
    "    learning_rate_3: float\n",
    "    learning_rate_4: float\n",
    "    learning_rate_5: float\n",
    "    batch_size_1: int\n",
    "    batch_size_2: int\n",
    "    epochs_1: int\n",
    "    epochs_2: int\n",
    "    epochs_3: int\n",
    "    epochs_4: int\n",
    "    epochs_5: int\n",
    "    training_data: Path\n",
    "    number_of_classes: int\n",
    "    root_dir: Path"
   ]
  },
  {
   "cell_type": "code",
   "execution_count": 9,
   "metadata": {},
   "outputs": [],
   "source": [
    "class ConfigurationManager:\n",
    "    def __init__(self, config_filepath=CONFIG_FILE_PATH, params_filepath=PARAMS_FILE_PATH):\n",
    "        \"\"\"\n",
    "        Initialize ConfigurationManager with configuration and parameter files.\n",
    "\n",
    "        Args:\n",
    "            config_filepath (str): Path to the configuration YAML file.\n",
    "            params_filepath (str): Path to the parameters YAML file.\n",
    "        \"\"\"\n",
    "        self.config = read_yaml(config_filepath)\n",
    "        self.params = read_yaml(params_filepath)\n",
    "\n",
    "        create_directories([self.config.artifacts_root])\n",
    "\n",
    "    def get_model_training_config(self) -> ModelTrainingConfig:\n",
    "        \"\"\"\n",
    "        Get the model training configuration.\n",
    "\n",
    "        Returns:\n",
    "            ModelTrainingConfig: Configuration object for model training.\n",
    "        \"\"\"\n",
    "        create_directories([self.config.training.root_dir])\n",
    "\n",
    "        return ModelTrainingConfig(\n",
    "            root_dir=self.config.training.root_dir,\n",
    "            training_data=self.config.training.training_data_path,\n",
    "            test_size=self.params.TEST_SIZE,\n",
    "            learning_rate_1=self.params.LEARNING_RATE_1,\n",
    "            learning_rate_2=self.params.LEARNING_RATE_2,\n",
    "            learning_rate_3=self.params.LEARNING_RATE_3,\n",
    "            learning_rate_4=self.params.LEARNING_RATE_4,\n",
    "            learning_rate_5=self.params.LEARNING_RATE_5,\n",
    "            batch_size_1=self.params.BATCH_SIZE_1,\n",
    "            batch_size_2=self.params.BATCH_SIZE_2,\n",
    "            epochs_1=self.params.EPOCHS_1,\n",
    "            epochs_2=self.params.EPOCHS_2,\n",
    "            epochs_3=self.params.EPOCHS_3,\n",
    "            epochs_4=self.params.EPOCHS_4,\n",
    "            epochs_5=self.params.EPOCHS_5,\n",
    "            number_of_classes=self.params.NUMBER_OF_CLASSES,\n",
    "\n",
    "        )"
   ]
  },
  {
   "cell_type": "code",
   "execution_count": null,
   "metadata": {},
   "outputs": [],
   "source": [
    "import torch\n",
    "import fastai\n",
    "from fastai.text.all import *\n",
    "import pandas as pd\n",
    "import numpy as np\n",
    "from functools import partial\n",
    "import io\n",
    "import os\n",
    "from sklearn.model_selection import train_test_split\n",
    "from swahiliNewsClassifier import log"
   ]
  },
  {
   "cell_type": "code",
   "execution_count": null,
   "metadata": {},
   "outputs": [],
   "source": [
    "class ModelTraining:\n",
    "    def __init__(self, model_training_config: ModelTrainingConfig):\n",
    "        \"\"\"\n",
    "        Initialize ModelTraining object with the provided configuration.\n",
    "\n",
    "        Args:\n",
    "            model_training_config (ModelTrainingConfig): Configuration object for model training.\n",
    "        \"\"\"\n",
    "        self.model_training_config = model_training_config\n",
    "\n",
    "    def load_data(self) -> pd.DataFrame:\n",
    "        \"\"\"\n",
    "        Load the training data from the specified path.\n",
    "\n",
    "        Returns:\n",
    "            pd.DataFrame: Loaded training data.\n",
    "        \"\"\"\n",
    "        train = pd.read_csv(self.model_training_config.training_data)\n",
    "        return train\n",
    "\n",
    "    def prepare_data(self, train) -> 'tuple[pd.DataFrame, pd.DataFrame, pd.DataFrame]':\n",
    "        \"\"\"\n",
    "        Prepare the data for training and validation.\n",
    "\n",
    "        Args:\n",
    "            train (pd.DataFrame): The loaded training data.\n",
    "\n",
    "        Returns:\n",
    "            tuple: A tuple containing training data (df_trn), validation data (df_val), and data for language model (df_lm).\n",
    "        \"\"\"\n",
    "        df_trn, df_val = train_test_split(train, stratify=train['category'], test_size=self.model_training_config.test_size, random_state=123)\n",
    "        df_lm = pd.concat([df_trn, df_val], axis=0)[['content']]\n",
    "        return df_trn, df_val, df_lm\n",
    "\n",
    "    def create_dataloaders(self, df_lm) -> DataLoaders:\n",
    "        \"\"\"\n",
    "        Create dataloaders for the language model.\n",
    "\n",
    "        Args:\n",
    "            df_lm (pd.DataFrame): Data for language model.\n",
    "\n",
    "        Returns:\n",
    "            DataLoaders: Dataloaders for the language model.\n",
    "        \"\"\"\n",
    "        dblock = DataBlock(\n",
    "            blocks=TextBlock.from_df('content', is_lm=True),\n",
    "            get_x=ColReader('text'),\n",
    "            splitter=RandomSplitter(0.1))\n",
    "\n",
    "        dls = dblock.dataloaders(df_lm, bs=self.model_training_config.batch_size_1)\n",
    "        return dls\n",
    "\n",
    "    def train_language_model(self, dls) -> Learner:\n",
    "        \"\"\"\n",
    "        Train the language model.\n",
    "\n",
    "        Args:\n",
    "            dls (DataLoaders): Dataloaders for the language model.\n",
    "\n",
    "        Returns:\n",
    "            Learner: Trained language model learner.\n",
    "        \"\"\"\n",
    "        learn = language_model_learner(dls, AWD_LSTM, drop_mult=0.3, metrics=[accuracy]).to_fp16()\n",
    "        learn.lr_find()\n",
    "        learn.fine_tune(self.model_training_config.epochs_1, self.model_training_config.learning_rate_1)\n",
    "        learn.save_encoder('language_model_learner')\n",
    "        return learn\n",
    "\n",
    "    def create_text_classifier_dataloaders(self, df_trn, dls_lm) -> DataLoaders:\n",
    "        \"\"\"\n",
    "        Create dataloaders for the text classifier.\n",
    "\n",
    "        Args:\n",
    "            df_trn (pd.DataFrame): Training data.\n",
    "            dls_lm (DataLoaders): Dataloaders for the language model to get vocabulary and sequence length.\n",
    "\n",
    "        Returns:\n",
    "            DataLoaders: Dataloaders for the text classifier.\n",
    "        \"\"\"\n",
    "        blocks = (TextBlock.from_df('content', seq_len=dls_lm.seq_len, vocab=dls_lm.vocab), CategoryBlock())\n",
    "        dblock = DataBlock(\n",
    "            blocks=blocks,\n",
    "            get_x=ColReader('text'),\n",
    "            get_y=ColReader('category'),\n",
    "            splitter=RandomSplitter(0.2))\n",
    "\n",
    "        dls = dblock.dataloaders(df_trn, bs=self.model_training_config.batch_size_2)\n",
    "        return dls\n",
    "\n",
    "    def train_text_classifier(self, dls) -> None:\n",
    "        \"\"\"\n",
    "        Train the text classifier.\n",
    "\n",
    "        Args:\n",
    "            dls (DataLoaders): Dataloaders for the text classifier.\n",
    "        \"\"\"\n",
    "        learn = text_classifier_learner(dls, AWD_LSTM, metrics=[accuracy]).to_fp16()\n",
    "        learn.load_encoder('language_model_learner')\n",
    "        learn.lr_find()\n",
    "        learn.fit_one_cycle(self.model_training_config.epochs_2, self.model_training_config.learning_rate_2)\n",
    "        learn.freeze_to(-2)\n",
    "        learn.fit_one_cycle(self.model_training_config.epochs_3, slice(1e-3/(2.6**4), self.model_training_config.learning_rate_3))\n",
    "        learn.freeze_to(-3)\n",
    "        learn.fit_one_cycle(self.model_training_config.epochs_4, slice(1e-3/(2.6**4), self.model_training_config.learning_rate_4))\n",
    "        learn.unfreeze()\n",
    "        learn.fit_one_cycle(self.model_training_config.epochs_5, slice(1e-3/(2.6**4), self.model_training_config.learning_rate_5))\n",
    "        learn.save_encoder('text_classifier_learner')\n",
    "\n",
    "    def run_pipeline(self) -> None:\n",
    "        \"\"\"\n",
    "        Run the complete model training pipeline.\n",
    "        \"\"\"\n",
    "        train = self.load_data()\n",
    "        df_trn, df_val, df_lm = self.prepare_data(train)\n",
    "        dls_lm = self.create_dataloaders(df_lm)\n",
    "        lm_learner = self.train_language_model(dls_lm)\n",
    "        dls_clf = self.create_text_classifier_dataloaders(df_trn, dls_lm)\n",
    "        self.train_text_classifier(dls_clf)"
   ]
  },
  {
   "cell_type": "code",
   "execution_count": null,
   "metadata": {},
   "outputs": [],
   "source": [
    "try:\n",
    "    config_manager = ConfigurationManager()\n",
    "    model_training_config = config_manager.get_model_training_config()\n",
    "    model_training = ModelTraining(model_training_config=model_training_config)\n",
    "    model_training.run_pipeline()\n",
    "except Exception as e:\n",
    "    raise e"
   ]
  }
 ],
 "metadata": {
  "kernelspec": {
   "display_name": "kidney",
   "language": "python",
   "name": "python3"
  },
  "language_info": {
   "codemirror_mode": {
    "name": "ipython",
    "version": 3
   },
   "file_extension": ".py",
   "mimetype": "text/x-python",
   "name": "python",
   "nbconvert_exporter": "python",
   "pygments_lexer": "ipython3",
   "version": "3.8.19"
  }
 },
 "nbformat": 4,
 "nbformat_minor": 2
}
