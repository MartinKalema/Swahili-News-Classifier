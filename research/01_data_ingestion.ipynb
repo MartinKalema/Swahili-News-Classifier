{
 "cells": [
  {
   "cell_type": "code",
   "execution_count": 1,
   "metadata": {},
   "outputs": [],
   "source": [
    "import os"
   ]
  },
  {
   "cell_type": "code",
   "execution_count": 2,
   "metadata": {},
   "outputs": [
    {
     "data": {
      "text/plain": [
       "'/media/kalema/9954-79C8/Projects/Swahili-News-Classifier/research'"
      ]
     },
     "execution_count": 2,
     "metadata": {},
     "output_type": "execute_result"
    }
   ],
   "source": [
    "%pwd"
   ]
  },
  {
   "cell_type": "code",
   "execution_count": 3,
   "metadata": {},
   "outputs": [],
   "source": [
    "os.chdir('../')\n"
   ]
  },
  {
   "cell_type": "code",
   "execution_count": 4,
   "metadata": {},
   "outputs": [
    {
     "data": {
      "text/plain": [
       "'/media/kalema/9954-79C8/Projects/Swahili-News-Classifier'"
      ]
     },
     "execution_count": 4,
     "metadata": {},
     "output_type": "execute_result"
    }
   ],
   "source": [
    "%pwd"
   ]
  },
  {
   "cell_type": "code",
   "execution_count": 5,
   "metadata": {},
   "outputs": [],
   "source": [
    "from dataclasses import dataclass\n",
    "from pathlib import Path\n",
    "\n",
    "from swahiliNewsClassifier.constants import *\n",
    "from swahiliNewsClassifier.utilities.helper_functions import read_yaml, create_directories"
   ]
  },
  {
   "cell_type": "code",
   "execution_count": 6,
   "metadata": {},
   "outputs": [],
   "source": [
    "@dataclass(frozen=True)\n",
    "class DataIngestionConfig:\n",
    "    root_dir: Path\n",
    "    train_source_URL: str\n",
    "    test_source_URL: str\n",
    "    train_data_file: Path\n",
    "    test_data_file: Path\n",
    "\n",
    "    unzip_dir: Path"
   ]
  },
  {
   "cell_type": "code",
   "execution_count": 7,
   "metadata": {},
   "outputs": [],
   "source": [
    "class ConfigurationManager:\n",
    "    def __init__(self, config_filepath=CONFIG_FILE_PATH, params_filepath=PARAMS_FILE_PATH):\n",
    "        \"\"\"\n",
    "        Initialize ConfigurationManager with configuration and parameter files.\n",
    "\n",
    "        Args:\n",
    "            config_filepath (str): Path to the configuration YAML file.\n",
    "            params_filepath (str): Path to the parameters YAML file.\n",
    "        \"\"\"\n",
    "        self.config = read_yaml(config_filepath)\n",
    "        self.params = read_yaml(params_filepath)\n",
    "\n",
    "        create_directories([self.config.artifacts_root])\n",
    "\n",
    "    def get_data_ingestion_config(self) -> DataIngestionConfig:\n",
    "        \"\"\"\n",
    "        Get the data ingestion configuration.\n",
    "\n",
    "        Returns:\n",
    "            DataIngestionConfig: Configuration object for data ingestion.\n",
    "        \"\"\"\n",
    "        config = self.config.data_ingestion\n",
    "\n",
    "        create_directories([config.root_dir])\n",
    "\n",
    "        return DataIngestionConfig(\n",
    "            root_dir=config.root_dir,\n",
    "            train_source_URL=config.train_source_URL,\n",
    "            test_source_URL=config.test_source_URL,\n",
    "            train_data_file=config.train_data_file,\n",
    "            test_data_file=config.test_data_file,\n",
    "            unzip_dir=config.unzip_dir\n",
    "        )\n"
   ]
  },
  {
   "cell_type": "code",
   "execution_count": 8,
   "metadata": {},
   "outputs": [],
   "source": [
    "import os\n",
    "import zipfile\n",
    "import gdown\n",
    "from swahiliNewsClassifier import classifierlogger"
   ]
  },
  {
   "cell_type": "code",
   "execution_count": 9,
   "metadata": {},
   "outputs": [],
   "source": [
    "class DataIngestion:\n",
    "    def __init__(self, config: DataIngestionConfig):\n",
    "        \"\"\"\n",
    "        Initialize DataIngestion object with the provided configuration.\n",
    "\n",
    "        Args:\n",
    "            config (DataIngestionConfig): Configuration object for data ingestion.\n",
    "        \"\"\"\n",
    "        self.config = config\n",
    "\n",
    "    def download_file(self):\n",
    "        \"\"\"Fetch data from a URL.\n",
    "        \n",
    "        Raises:\n",
    "            Exception: If an error occurs during the download process.\n",
    "        \"\"\"\n",
    "        os.makedirs(\"artifacts/data_ingestion\", exist_ok=True)\n",
    "        dataset_urls = [self.config.train_source_URL, self.config.test_source_URL]\n",
    "        zip_download_dir = [self.config.train_data_file, self.config.test_data_file]\n",
    "        \n",
    "        for url, dest in zip(dataset_urls, zip_download_dir):\n",
    "            try:\n",
    "                classifierlogger.info(f\"Downloading data from {url} into file {dest}\")\n",
    "\n",
    "                file_id = url.split(\"/\")[-2]\n",
    "                prefix = \"https://drive.google.com/uc?/export=download&id=\"\n",
    "                gdown.download(prefix + file_id, dest)\n",
    "\n",
    "                classifierlogger.info(f\"Downloaded data from {url} into file {dest}\")\n",
    "            except Exception as e:\n",
    "                classifierlogger.error(f\"Error downloading file from {url} to {dest}\")\n",
    "                raise e\n",
    "\n",
    "    def extract_zip_file(self):\n",
    "        \"\"\"Extract a zip file.\n",
    "\n",
    "        This method extracts the contents of a zip file specified in the configuration\n",
    "        to the directory specified in the configuration.\n",
    "\n",
    "        Raises:\n",
    "            Exception: If an error occurs during the extraction process.\n",
    "        \"\"\"\n",
    "        zip_download_dir = [self.config.train_data_file, self.config.test_data_file]\n",
    "        unzip_path = self.config.unzip_dir\n",
    "        os.makedirs(unzip_path, exist_ok=True)\n",
    "\n",
    "        for zip_file in zip_download_dir:\n",
    "            try:\n",
    "                with zipfile.ZipFile(zip_file, \"r\") as zip_ref:\n",
    "                    zip_ref.extractall(unzip_path)\n",
    "\n",
    "                classifierlogger.info(f\"Extracted zip file {zip_file} into: {unzip_path}\")\n",
    "            except Exception as e:\n",
    "                classifierlogger.error(f\"Error extracting zip file: {zip_file}\")\n",
    "                raise e\n"
   ]
  },
  {
   "cell_type": "code",
   "execution_count": 10,
   "metadata": {},
   "outputs": [
    {
     "name": "stdout",
     "output_type": "stream",
     "text": [
      "[2024-06-08 15:24:19,735: INFO: helper_functions:20: yaml file: configuration/configuration.yaml loaded successfully]\n",
      "[2024-06-08 15:24:19,744: INFO: helper_functions:20: yaml file: parameters.yaml loaded successfully]\n",
      "[2024-06-08 15:24:19,747: INFO: helper_functions:35: Created directory at: artifacts]\n",
      "[2024-06-08 15:24:19,749: INFO: helper_functions:35: Created directory at: artifacts/data_ingestion]\n",
      "[2024-06-08 15:24:19,750: INFO: 2052182238:23: Downloading data from https://drive.google.com/file/d/15stuLDZkXNOgBUC1rnx5yXYdVPViUjNB/view?usp=sharing into file artifacts/data_ingestion/train_data.zip]\n"
     ]
    },
    {
     "name": "stderr",
     "output_type": "stream",
     "text": [
      "Downloading...\n",
      "From: https://drive.google.com/uc?/export=download&id=15stuLDZkXNOgBUC1rnx5yXYdVPViUjNB\n",
      "To: /media/kalema/9954-79C8/Projects/Swahili-News-Classifier/artifacts/data_ingestion/train_data.zip\n",
      "100%|██████████| 3.78M/3.78M [00:03<00:00, 1.12MB/s]"
     ]
    },
    {
     "name": "stdout",
     "output_type": "stream",
     "text": [
      "[2024-06-08 15:24:27,176: INFO: 2052182238:29: Downloaded data from https://drive.google.com/file/d/15stuLDZkXNOgBUC1rnx5yXYdVPViUjNB/view?usp=sharing into file artifacts/data_ingestion/train_data.zip]\n",
      "[2024-06-08 15:24:27,178: INFO: 2052182238:23: Downloading data from https://drive.google.com/file/d/1mjmYzMdnn_UwSEgTQ7i-cJ5WSOokt9Er/view?usp=sharing into file artifacts/data_ingestion/test_data.zip]\n"
     ]
    },
    {
     "name": "stderr",
     "output_type": "stream",
     "text": [
      "\n",
      "Downloading...\n",
      "From: https://drive.google.com/uc?/export=download&id=1mjmYzMdnn_UwSEgTQ7i-cJ5WSOokt9Er\n",
      "To: /media/kalema/9954-79C8/Projects/Swahili-News-Classifier/artifacts/data_ingestion/test_data.zip\n",
      "100%|██████████| 992k/992k [00:00<00:00, 1.19MB/s]"
     ]
    },
    {
     "name": "stdout",
     "output_type": "stream",
     "text": [
      "[2024-06-08 15:24:30,890: INFO: 2052182238:29: Downloaded data from https://drive.google.com/file/d/1mjmYzMdnn_UwSEgTQ7i-cJ5WSOokt9Er/view?usp=sharing into file artifacts/data_ingestion/test_data.zip]\n"
     ]
    },
    {
     "name": "stderr",
     "output_type": "stream",
     "text": [
      "\n"
     ]
    },
    {
     "name": "stdout",
     "output_type": "stream",
     "text": [
      "[2024-06-08 15:24:31,090: INFO: 2052182238:52: Extracted zip file artifacts/data_ingestion/train_data.zip into: artifacts/data_ingestion]\n",
      "[2024-06-08 15:24:31,150: INFO: 2052182238:52: Extracted zip file artifacts/data_ingestion/test_data.zip into: artifacts/data_ingestion]\n"
     ]
    }
   ],
   "source": [
    "try:\n",
    "    config = ConfigurationManager()\n",
    "    data_ingestion_config = config.get_data_ingestion_config()\n",
    "    data_ingestion = DataIngestion(config=data_ingestion_config)\n",
    "    data_ingestion.download_file()\n",
    "    data_ingestion.extract_zip_file()\n",
    "except Exception as e:\n",
    "    raise e\n"
   ]
  },
  {
   "cell_type": "code",
   "execution_count": null,
   "metadata": {},
   "outputs": [],
   "source": []
  }
 ],
 "metadata": {
  "kernelspec": {
   "display_name": "base",
   "language": "python",
   "name": "python3"
  },
  "language_info": {
   "codemirror_mode": {
    "name": "ipython",
    "version": 3
   },
   "file_extension": ".py",
   "mimetype": "text/x-python",
   "name": "python",
   "nbconvert_exporter": "python",
   "pygments_lexer": "ipython3",
   "version": "3.8.19"
  }
 },
 "nbformat": 4,
 "nbformat_minor": 2
}
